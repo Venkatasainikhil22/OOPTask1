{
  "nbformat": 4,
  "nbformat_minor": 0,
  "metadata": {
    "colab": {
      "name": "OOPTask1",
      "provenance": [],
      "authorship_tag": "ABX9TyO4GGav3ARegkArLEHTZyr2",
      "include_colab_link": true
    },
    "kernelspec": {
      "name": "python3",
      "display_name": "Python 3"
    },
    "language_info": {
      "name": "python"
    }
  },
  "cells": [
    {
      "cell_type": "markdown",
      "metadata": {
        "id": "view-in-github",
        "colab_type": "text"
      },
      "source": [
        "<a href=\"https://colab.research.google.com/github/Venkatasainikhil22/OOPTask1/blob/main/OOPTask1.ipynb\" target=\"_parent\"><img src=\"https://colab.research.google.com/assets/colab-badge.svg\" alt=\"Open In Colab\"/></a>"
      ]
    },
    {
      "cell_type": "code",
      "metadata": {
        "colab": {
          "base_uri": "https://localhost:8080/"
        },
        "id": "XBCurqKsMJdj",
        "outputId": "fe4b21ad-ac5d-4eaa-fa08-f0ee8f5204f5"
      },
      "source": [
        "year = int(input(\"enter the year: \"))\n",
        "def checkleapYear(year):\n",
        "    if (year % 4) == 0:\n",
        "        if (year % 100) == 0:\n",
        "            if (year % 400) == 0:\n",
        "                return True\n",
        "            else:\n",
        "                return False\n",
        "        else:\n",
        "             return True\n",
        "    else:\n",
        "        return False\n",
        "\n",
        "if(checkleapYear(year)):\n",
        "    print(\"True\")\n",
        "else:\n",
        "    print(\"False\")"
      ],
      "execution_count": null,
      "outputs": [
        {
          "output_type": "stream",
          "name": "stdout",
          "text": [
            "enter the year: 1200\n",
            "True\n"
          ]
        }
      ]
    },
    {
      "cell_type": "code",
      "metadata": {
        "colab": {
          "base_uri": "https://localhost:8080/"
        },
        "id": "oJTr6z5PM_Dc",
        "outputId": "9d7e0dd2-50bc-4c23-9ea9-5aea198d6057"
      },
      "source": [
        "num = int(input(\"enter the number: \"))\n",
        "def number(num):\n",
        "    if ( num % 2) != 0:\n",
        "        return True\n",
        "    if (num % 2) == 0:\n",
        "        if (2<=num<=5):\n",
        "            return False\n",
        "        if (6<=num<=20):\n",
        "            return True\n",
        "        elif (num>20):\n",
        "            return False\n",
        "\n",
        "if(number(num)):\n",
        "    print(\" Weird\")\n",
        "else:\n",
        "    print(\" Not Weird\")"
      ],
      "execution_count": null,
      "outputs": [
        {
          "output_type": "stream",
          "name": "stdout",
          "text": [
            "enter the number: 24\n",
            " Not Weird\n"
          ]
        }
      ]
    },
    {
      "cell_type": "code",
      "metadata": {
        "colab": {
          "base_uri": "https://localhost:8080/"
        },
        "id": "AAy0ItZSNUVm",
        "outputId": "00fd93e3-b105-41fa-c62c-991cdb030e06"
      },
      "source": [
        "n = int(input(\"enter the number of guests: \"))\n",
        "guests = [] #['Hardik', 'Rahul', 'Virat', 'Rishabh', 'Mahi', 'Rohit', 'Rahane']\n",
        "for i in range(0, n):\n",
        "  name = str(input(\"enter the name of guests: \"))\n",
        "  guests.append([name])\n",
        "print(\"Guests are: \", guests)\n",
        "if(n%2==0):\n",
        "  for k in range( int((n)/2) , n-1):\n",
        "    print(\"\\nFashionable late persons are: \", guests[k])\n",
        "elif(n%2 != 0):\n",
        "  for k in range( int((n-1)/2) , n-1):\n",
        "    print(\"\\nFashionable late persons are: \", guests[k])"
      ],
      "execution_count": null,
      "outputs": [
        {
          "output_type": "stream",
          "name": "stdout",
          "text": [
            "enter the number of guests: 7\n",
            "enter the name of guests: Hardik\n",
            "enter the name of guests: Rahul\n",
            "enter the name of guests: Virat\n",
            "enter the name of guests: Rishabh\n",
            "enter the name of guests: Mahi\n",
            "enter the name of guests: Rohit\n",
            "enter the name of guests: Rahane\n",
            "Guests are:  [['Hardik'], ['Rahul'], ['Virat'], ['Rishabh'], ['Mahi'], ['Rohit'], ['Rahane']]\n",
            "\n",
            "Fashionable late persons are:  ['Rishabh']\n",
            "\n",
            "Fashionable late persons are:  ['Mahi']\n",
            "\n",
            "Fashionable late persons are:  ['Rohit']\n"
          ]
        }
      ]
    },
    {
      "cell_type": "code",
      "metadata": {
        "colab": {
          "base_uri": "https://localhost:8080/"
        },
        "id": "f6iECU97N0Cx",
        "outputId": "bb221039-3fbe-4c70-a4b3-b0eba211647f"
      },
      "source": [
        "def word_search_2(title_list, keyword):\n",
        "    # make lowercase and remove punctuation\n",
        "    keyword = keyword.lower().strip('.,')\n",
        "\n",
        "    result_list = []\n",
        "    for i, title in enumerate(title_list):\n",
        "        # make lowercase and remove punctuation, then split into words\n",
        "        words = title.lower().strip('.,').split()\n",
        "\n",
        "        if keyword in words:\n",
        "            result_list.append((i, title))\n",
        "\n",
        "    return result_list\n",
        "\n",
        "if __name__ == '__main__':\n",
        "    docs = [\n",
        "        'The Learn Python Challenge Burns',\n",
        "        'They bought a bat',\n",
        "        'The fire burns',\n",
        "        'England',\n",
        "    ]\n",
        "    w = 'burns'\n",
        "\n",
        "    print(word_search_2(docs, w))"
      ],
      "execution_count": null,
      "outputs": [
        {
          "output_type": "stream",
          "name": "stdout",
          "text": [
            "[(0, 'The Learn Python Challenge Burns'), (2, 'The fire burns')]\n"
          ]
        }
      ]
    },
    {
      "cell_type": "code",
      "metadata": {
        "colab": {
          "base_uri": "https://localhost:8080/"
        },
        "id": "Q5oJAB9lOi38",
        "outputId": "8ecba117-f38d-4780-fbd3-a8e329c638f7"
      },
      "source": [
        "BP = float(input(\"Enter the Basic Pay: \"))\n",
        "DA = (40*BP)/100\n",
        "HRA = (20*BP)/100\n",
        "GP = BP + DA + HRA\n",
        "print('Gross Pay (GP):',GP)"
      ],
      "execution_count": null,
      "outputs": [
        {
          "output_type": "stream",
          "name": "stdout",
          "text": [
            "Enter the Basic Pay: 10000\n",
            "Gross Pay (GP): 16000.0\n"
          ]
        }
      ]
    }
  ]
}